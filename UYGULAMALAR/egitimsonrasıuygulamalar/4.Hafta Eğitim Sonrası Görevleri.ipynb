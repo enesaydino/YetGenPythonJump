{
 "cells": [
  {
   "cell_type": "markdown",
   "metadata": {},
   "source": [
    "# Problem 1\n",
    "`ogrenciler` adında bir sözlük oluşturunuz. Kullanıcıdan döngü yardımıyla 3 öğrenci için veri girmesini isteyerek öğrencilerin sırasıyla okul numarası, isim, soy isim, telefon numarası ve doğum tarihi bilgilerini alınız. Aldığınız öğrenci bilgilerini yine aynı döngü yardımıyla `ogrenciler` adındaki sözlükte saklayınız. Daha sonra öğrenci bilgilerinin bulunduğu sözlük yapısını ekrana bastırınız.\n",
    "\n"
   ]
  },
  {
   "cell_type": "code",
   "execution_count": 21,
   "metadata": {},
   "outputs": [
    {
     "name": "stdout",
     "output_type": "stream",
     "text": [
      "{1: {'okulNo': '', 'isim': '1', 'soyisim': '1', 'telefon numarasi': '1', 'dogum Tarihi': '1'}}\n",
      "{1: {'okulNo': '', 'isim': '1', 'soyisim': '1', 'telefon numarasi': '1', 'dogum Tarihi': '1'}, 2: {'okulNo': '1', 'isim': '1', 'soyisim': '1', 'telefon numarasi': '1', 'dogum Tarihi': '1'}}\n",
      "{1: {'okulNo': '', 'isim': '1', 'soyisim': '1', 'telefon numarasi': '1', 'dogum Tarihi': '1'}, 2: {'okulNo': '1', 'isim': '1', 'soyisim': '1', 'telefon numarasi': '1', 'dogum Tarihi': '1'}, 3: {'okulNo': '1', 'isim': '1', 'soyisim': '1', 'telefon numarasi': '1', 'dogum Tarihi': '1'}}\n"
     ]
    }
   ],
   "source": [
    "ogrenciler = {}\n",
    "\n",
    "for i in range(1,4):\n",
    "    okulNo = input(\"öğrencinin okul numarasi:\")\n",
    "    isim = input(\"öğrencinin adi: \")\n",
    "    soyisim = input(\"öğrencinin soyadi: \")\n",
    "    telNo = input(\"öğrencinin telefon numarasi: \")\n",
    "    dogumTarihi = input(\"öğrencinin doğum tarihini girin: \")\n",
    "    \n",
    "    ogrenciler[i]= {\n",
    "    \"okulNo\": okulNo,\n",
    "    \"isim\": isim,\n",
    "    \"soyisim\": soyisim,\n",
    "    \"telefon numarasi\": telNo,\n",
    "    \"dogum Tarihi\": dogumTarihi}\n",
    "\n",
    "    print(ogrenciler)\n",
    "\n"
   ]
  },
  {
   "cell_type": "markdown",
   "metadata": {},
   "source": [
    "# Problem 2\n",
    "\n",
    "### a - Biraz ısınarak başlayalım!\n",
    "\n",
    "```\n",
    "numbers = [5,10,10,15,15,15,20,20,20,20]\n",
    "```\n",
    "\n",
    "Yukarıda `numbers` adında 10 elemanlı bir liste verilmiştir. Bu listenin her elemanını kontrol eden ve tekrar eden elemanları bir kez olacak şekilde başka bir listeye kopyalayan bir program yazınız. Son olarak oluşturduğunuz listeyi ekrana bastırınız.\n",
    "\n",
    "\n",
    "\n",
    "\n",
    "```\n",
    ">Output\n",
    "[5, 10, 15, 20]\n",
    "```\n"
   ]
  },
  {
   "cell_type": "code",
   "execution_count": 24,
   "metadata": {},
   "outputs": [
    {
     "name": "stdout",
     "output_type": "stream",
     "text": [
      "[5, 10, 15, 20]\n"
     ]
    }
   ],
   "source": [
    "#Listeyi yazalım\n",
    "numbers = [5,10,10,15,15,15,20,20,20,20]\n",
    "#elemanları tekte alan bir grup yarat\n",
    "altGrup=[]\n",
    "\n",
    "for number in numbers:\n",
    "    if number in altGrup:\n",
    "        continue\n",
    "    else:\n",
    "        altGrup.append(number)\n",
    "\n",
    "print(altGrup)"
   ]
  },
  {
   "cell_type": "markdown",
   "metadata": {},
   "source": [
    "### 🌶️ b) Hadi işi biraz daha zorlaştıralım! \n",
    "\n",
    "\n",
    "Şimdiyse senden `numbers` isimli listedeki tekrar eden elemanları `repeatNumbers` adındaki listeye; tekrar etmeyen elemanları `uniqueNumbers`adındaki listeye kopyalayan yazmanı ve listeleri ekrana bastırmanı bekliyoruz\n",
    "\n",
    "```\n",
    ">Output\n",
    "Tekrar Eden Elemanlar: [10, 10, 15, 15, 15, 20, 20, 20, 20]\n",
    "Tekrar Etmeyen Elemanlar: [5]\n",
    "```"
   ]
  },
  {
   "cell_type": "code",
   "execution_count": 27,
   "metadata": {},
   "outputs": [
    {
     "name": "stdout",
     "output_type": "stream",
     "text": [
      "Tekrar edenler[10, 10, 15, 15, 15, 20, 20, 20, 20]\n",
      "Terkar etmeyenler[5]\n"
     ]
    }
   ],
   "source": [
    "#listeyi yazdık\n",
    "numbers = [5,10,10,15,15,15,20,20,20,20]\n",
    "#elemanları tekte alan bir grup yarat\n",
    "repeatNumbers=[]\n",
    "uniqueNumbers=[]\n",
    "\n",
    "#\n",
    "for number in numbers:\n",
    "    if numbers.count(number) ==1:\n",
    "        uniqueNumbers.append(number)\n",
    "    else:\n",
    "        repeatNumbers.append(number)\n",
    "\n",
    "print(f\"Tekrar edenler{repeatNumbers}\")\n",
    "print(f\"Terkar etmeyenler{uniqueNumbers}\")\n",
    "\n",
    "\n"
   ]
  },
  {
   "cell_type": "markdown",
   "metadata": {},
   "source": [
    "# Problem 3\n",
    "sn1 = {1,2,3,4,5}\n",
    "\n",
    "sn2 = {4,5,6,7,8}\n",
    "\n",
    " Verilen 2 adet küme için kesişimlerini, farklarını ve birleşimlerini bulunuz. "
   ]
  },
  {
   "cell_type": "code",
   "execution_count": 36,
   "metadata": {},
   "outputs": [
    {
     "name": "stdout",
     "output_type": "stream",
     "text": [
      "{4, 5}\n",
      "{1, 2, 3}\n",
      "{8, 6, 7}\n",
      "{1, 2, 3, 4, 5, 6, 7, 8}\n"
     ]
    }
   ],
   "source": [
    "#Önce bir kümeleri yaz\n",
    "birinciGrup = {1,2,3,4,5}\n",
    "ikinciGrup = {4,5,6,7,8}\n",
    "\n",
    "#kesişimini al\n",
    "kesisim = birinciGrup.intersection(ikinciGrup)\n",
    "\n",
    "#farkını al\n",
    "birinciGrubunIikinciGruptanFarki = birinciGrup.difference(ikinciGrup) \n",
    "ikinciGrubunBirinciGruptanFarki= ikinciGrup.difference(birinciGrup)\n",
    "\n",
    "#birleştir.\n",
    "hepsi= birinciGrup.union(ikinciGrup)\n",
    "\n",
    "print(kesisim)\n",
    "print(birinciGrubunIikinciGruptanFarki)\n",
    "print(ikinciGrubunBirinciGruptanFarki)\n",
    "print(hepsi)\n"
   ]
  },
  {
   "cell_type": "markdown",
   "metadata": {},
   "source": [
    "# Problem 4\n",
    "\n",
    "Buradaki işlemlerimizin tamamı stringler içindir. Aşağıda verilecek olan metodlar için kendinizin örnek yaratması gerekmektedir. \n",
    "\n",
    "Örneğin `upper` için `string` değişkeni oluştururken` k = \"BAC\"` şeklinde oluşturmayınız. Bunun yerine k değişkenini `k = \"bac`\" şeklinde oluşturmanız `upper` metodundaki değişimi görebilmeniz için daha iyi olacaktır.\n",
    "\n",
    "Bütün metodlardaki değişimin gözle görülür şekilde değişimi beklenmektedir.\n",
    "\n",
    "\n",
    "1- capitalize(), lower(), upper(), swapcase(), title(), replace()\n",
    "\n",
    "2- endswith(), startswith(), find(), index(), count()\n",
    "\n",
    "3- split(), strip(), join(), islower(), isalpha(), isdigit()\n",
    "\n",
    "\n",
    "Yukarıdaki `string` metodlarındaki değişimleri görebildiğimiz bir program yazınız.\n"
   ]
  },
  {
   "cell_type": "code",
   "execution_count": 64,
   "metadata": {},
   "outputs": [
    {
     "name": "stdout",
     "output_type": "stream",
     "text": [
      "                Ben tiyatro aşiği bir insanim canim         \n",
      "                ben tiyatro aşiği bir insanim canim         \n",
      "                ben tiyatro aşiği bir insanim canim         \n",
      "                BEN TIYATRO AŞIĞI BIR INSANIM CANIM         \n",
      "                bEN TIYATRO AŞIĞI BIR INSANIM CANIM         \n",
      "                Ben Tiyatro Aşiği Bir Insanim Canim         \n",
      "                Ben opera aşiği bir insanim canim         \n",
      "False\n",
      "False\n",
      "20\n",
      "34\n",
      "1\n",
      "['Ben', 'tiyatro', 'aşiği', 'bir', 'insanim', 'canim']\n",
      "Ben tiyatro aşiği bir insanim canim\n",
      "False\n",
      "False\n"
     ]
    }
   ],
   "source": [
    "k = \"                Ben tiyatro aşiği bir insanim canim         \"\n",
    "print(k)\n",
    "# birinci başlıktaki içerikleri işleteceğiz.\n",
    "print(k.capitalize())\n",
    "print(k.lower())\n",
    "print(k.upper())\n",
    "print(k.swapcase())\n",
    "print(k.title())\n",
    "#Replace kodunu kullanırken değiştireceği şeyi içeri koymamız gerekir.\n",
    "print(k.replace(\"tiyatro\", \"opera\"))\n",
    "\n",
    "#gelelim başlık 2 ye\n",
    "print(k.endswith(\"canim\"))\n",
    "print(k.startswith(\"Sen\"))\n",
    "print(k.find(\"tiyatro\"))\n",
    "print(k.index(\"bir\"))\n",
    "print(k.count(\"bir\"))\n",
    "\n",
    "#3.başlık\n",
    "print(k.split())\n",
    "print(k.strip())\n",
    "print(k.isalpha())\n",
    "print(k.isdigit())\n",
    "\n",
    "\n"
   ]
  }
 ],
 "metadata": {
  "kernelspec": {
   "display_name": "Python 3.10.5 64-bit",
   "language": "python",
   "name": "python3"
  },
  "language_info": {
   "codemirror_mode": {
    "name": "ipython",
    "version": 3
   },
   "file_extension": ".py",
   "mimetype": "text/x-python",
   "name": "python",
   "nbconvert_exporter": "python",
   "pygments_lexer": "ipython3",
   "version": "3.11.2"
  },
  "orig_nbformat": 4,
  "vscode": {
   "interpreter": {
    "hash": "5026d2d6e7aaaaba093def813beadff083d8733e4a511af01735cbabd156995d"
   }
  }
 },
 "nbformat": 4,
 "nbformat_minor": 2
}

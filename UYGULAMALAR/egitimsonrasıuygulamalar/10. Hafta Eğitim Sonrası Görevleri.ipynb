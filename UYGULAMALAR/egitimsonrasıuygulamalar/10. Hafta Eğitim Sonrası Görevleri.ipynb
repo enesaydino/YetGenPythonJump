{
 "cells": [
  {
   "attachments": {},
   "cell_type": "markdown",
   "metadata": {},
   "source": [
    "# Problem 1 "
   ]
  },
  {
   "cell_type": "code",
   "execution_count": 1,
   "metadata": {},
   "outputs": [
    {
     "name": "stdout",
     "output_type": "stream",
     "text": [
      "Oluşturulan array:  [3 1 5 2 4]\n",
      "Sıralanmış array:  [1 2 3 4 5]\n"
     ]
    }
   ],
   "source": [
    "import numpy as np\n",
    "\n",
    "# 2\n",
    "array = np.array([3, 1, 5, 2, 4])\n",
    "print(\"Oluşturulan array: \", array)\n",
    "\n",
    "# 3\n",
    "sirali_array = np.sort(array)\n",
    "print(\"Sıralanmış array: \", sirali_array)\n",
    "\n"
   ]
  },
  {
   "attachments": {},
   "cell_type": "markdown",
   "metadata": {},
   "source": [
    "# Problem 2"
   ]
  },
  {
   "cell_type": "code",
   "execution_count": 30,
   "metadata": {},
   "outputs": [
    {
     "name": "stdout",
     "output_type": "stream",
     "text": [
      "[10 15 30 45 60]\n",
      "[ 5  6  7  8  9 10 11 12 13 14 15]\n",
      "[ 50  55  60  65  70  75  80  85  90  95 100]\n",
      "[0. 0. 0. 0. 0. 0. 0. 0. 0. 0.]\n",
      "[1. 1. 1. 1. 1. 1. 1. 1. 1. 1.]\n",
      "[  0.  25.  50.  75. 100.]\n",
      "[20 25 28 19 19]\n",
      "[ 0.12782104 -0.20171089 -0.04508065 -0.83179098  0.70498499  0.57796393\n",
      "  0.60098356  0.25063433  0.87992104 -0.96771789]\n",
      "[-0.35715457 -0.77632321 -0.86724303 -0.31756711  0.55215928  0.78707548\n",
      "  0.74265597 -0.25865401  0.01973441  0.19924214]\n",
      "En büyük değer: 0.787075477628278\n",
      "En küçük değer: -0.8672430308816623\n",
      "Ortalama: -0.027607465676126285\n",
      "En büyük değerin indeksi: 5\n",
      "[10 11 12]\n",
      "[ 0.19924214  0.01973441 -0.25865401  0.74265597  0.78707548  0.55215928\n",
      " -0.31756711 -0.86724303 -0.77632321 -0.35715457]\n",
      "İlk satır: -0.3571545739904787\n"
     ]
    },
    {
     "ename": "IndexError",
     "evalue": "too many indices for array: array is 1-dimensional, but 2 were indexed",
     "output_type": "error",
     "traceback": [
      "\u001b[1;31m---------------------------------------------------------------------------\u001b[0m",
      "\u001b[1;31mIndexError\u001b[0m                                Traceback (most recent call last)",
      "Cell \u001b[1;32mIn[30], line 81\u001b[0m\n\u001b[0;32m     78\u001b[0m \u001b[39mprint\u001b[39m(\u001b[39m\"\u001b[39m\u001b[39mİlk satır:\u001b[39m\u001b[39m\"\u001b[39m, matris[\u001b[39m0\u001b[39m])\n\u001b[0;32m     80\u001b[0m \u001b[39m# 16- Üretilen matrisin 2.satır 3.sütundaki elemanı hangisidir ?\u001b[39;00m\n\u001b[1;32m---> 81\u001b[0m \u001b[39mprint\u001b[39m(\u001b[39m\"\u001b[39m\u001b[39m2. satır, 3. sütun:\u001b[39m\u001b[39m\"\u001b[39m, matris[\u001b[39m1\u001b[39;49m, \u001b[39m2\u001b[39;49m])\n\u001b[0;32m     83\u001b[0m \u001b[39m# 17- Üretilen matrisin tüm satırlardaki ilk elemanı seçiniz.\u001b[39;00m\n\u001b[0;32m     84\u001b[0m reshaped_matris \u001b[39m=\u001b[39m np\u001b[39m.\u001b[39mreshape(matris, (satir_sayisi, sutun_sayisi))\n",
      "\u001b[1;31mIndexError\u001b[0m: too many indices for array: array is 1-dimensional, but 2 were indexed"
     ]
    }
   ],
   "source": [
    "# 1- (10,15,30,45,60) değerlerine sahip numpy dizisi oluşturunuz.\n",
    "import numpy as np\n",
    "\n",
    "matris = np.array([10, 15, 30, 45, 60])\n",
    "print(matris)\n",
    "\n",
    "# 2- (5-15) arasındaki sayılarla numpy dizisi oluşturunuz.\n",
    "import numpy as np\n",
    "\n",
    "matris = np.arange(5, 16)\n",
    "print(matris)\n",
    "\n",
    " # 3- (50-100) arasında 5'er 5'er artarak numpy dizisi oluşturunuz.\n",
    "import numpy as np\n",
    "\n",
    "matris = np.arange(50, 101, 5)\n",
    "print(matris)\n",
    "\n",
    "# 4- 10 elemanlı sıfırlardan oluşan bir dizi oluşturunuz.\n",
    "import numpy as np\n",
    "\n",
    "matris = np.zeros(10)\n",
    "print(matris)\n",
    "\n",
    "# 5- 10 elemanlı birlerden oluşan bir dizi oluşturunuz.\n",
    "import numpy as np\n",
    "\n",
    "matris = np.ones(10)\n",
    "print(matris)\n",
    "\n",
    "# 6- (0-100) arasında eşit aralıklı 5 sayı üretin.\n",
    "import numpy as np\n",
    "\n",
    "matris = np.linspace(0, 100, 5)\n",
    "print(matris)\n",
    "\n",
    "# 7- (10-30) arasında rastgele 5 tane tamsayı üretin.\n",
    "\n",
    "import numpy as np\n",
    "\n",
    "matris = np.random.randint(10, 31, size=5)\n",
    "print(matris)\n",
    "\n",
    "# 8- [-1 ile 1] arasında 10 adet sayı üretin.\n",
    "import numpy as np\n",
    "\n",
    "matris = np.random.uniform(-1, 1, size=10)\n",
    "print(matris)\n",
    "\n",
    "# 9- (3x5) boyutlarında (10-50) arasında rastgele bir matris oluşturunuz.\n",
    "import numpy as np\n",
    "\n",
    "matris = np.random.uniform(-1, 1, size=10)\n",
    "print(matris)\n",
    "\n",
    "# 10- Üretilen matrisin satır ve sütun sayıları toplamlarını hesaplayınız ?\n",
    "#reshaped_matris = np.reshape(matris, (satir_sayisi, sutun_sayisi))\n",
    "#print(\"Satır toplamları:\", np.sum(reshaped_matris, axis=1))\n",
    "#print(\"Sütun toplamları:\", np.sum(reshaped_matris, axis=0))\n",
    "\n",
    "# 11- Üretilen matrisin en büyük, en küçük ve ortalaması nedir ?\n",
    "print(\"En büyük değer:\", np.max(matris))\n",
    "print(\"En küçük değer:\", np.min(matris))\n",
    "print(\"Ortalama:\", np.mean(matris))\n",
    "\n",
    "# 12- Üretilen matrisin en büyük değerinin indeksi kaçtır ?\n",
    "max_index = np.argmax(matris)\n",
    "print(\"En büyük değerin indeksi:\", max_index)\n",
    "\n",
    "# 13- (10-20) arasındaki sayıları içeren dizinin ilk 3 elemanını seçiniz.\n",
    "dizi = np.arange(10, 21)\n",
    "print(dizi[:3])\n",
    "\n",
    "# 14- Üretilen dizinin elemanlarını tersten yazdırın.\n",
    "print(matris[::-1])\n",
    "\n",
    "# 15- Üretilen matrisin ilk satırını seçiniz.\n",
    "print(\"İlk satır:\", matris[0])\n",
    "\n",
    "# 16- Üretilen matrisin 2.satır 3.sütundaki elemanı hangisidir ?\n",
    "print(\"2. satır, 3. sütun:\", matris[1, 2])\n",
    "\n",
    "# 17- Üretilen matrisin tüm satırlardaki ilk elemanı seçiniz.\n",
    "reshaped_matris = np.reshape(matris, (satir_sayisi, sutun_sayisi))\n",
    "print(\"Kareleri:\", np.square(reshaped_matris))\n",
    "\n",
    "\n",
    "# 18- Üretilen matrisin her bir elemanının karesini alınız.\n",
    "reshaped_matris = np.reshape(matris, (satir_sayisi, sutun_sayisi))\n",
    "print(\"Kareleri:\", np.square(reshaped_matris))\n",
    "\n",
    "\n",
    "\n",
    "\n",
    "\n",
    "\n",
    "\n",
    "\n",
    "\n",
    "\n",
    "\n",
    "\n",
    "\n",
    "\n",
    "\n",
    "\n",
    "\n",
    "\n",
    "\n",
    "\n",
    "\n",
    "\n",
    "\n",
    "\n",
    "\n",
    "\n",
    "\n",
    "\n",
    "\n"
   ]
  }
 ],
 "metadata": {
  "kernelspec": {
   "display_name": "Python 3",
   "language": "python",
   "name": "python3"
  },
  "language_info": {
   "codemirror_mode": {
    "name": "ipython",
    "version": 3
   },
   "file_extension": ".py",
   "mimetype": "text/x-python",
   "name": "python",
   "nbconvert_exporter": "python",
   "pygments_lexer": "ipython3",
   "version": "3.11.2"
  },
  "orig_nbformat": 4,
  "vscode": {
   "interpreter": {
    "hash": "5026d2d6e7aaaaba093def813beadff083d8733e4a511af01735cbabd156995d"
   }
  }
 },
 "nbformat": 4,
 "nbformat_minor": 2
}

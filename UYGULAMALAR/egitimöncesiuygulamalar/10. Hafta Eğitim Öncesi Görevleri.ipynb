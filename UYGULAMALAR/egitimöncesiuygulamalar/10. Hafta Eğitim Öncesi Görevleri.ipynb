{
 "cells": [
  {
   "attachments": {},
   "cell_type": "markdown",
   "metadata": {},
   "source": [
    "# Problem 1"
   ]
  },
  {
   "cell_type": "code",
   "execution_count": 1,
   "metadata": {},
   "outputs": [
    {
     "name": "stdout",
     "output_type": "stream",
     "text": [
      "(5,)\n",
      "2\n"
     ]
    }
   ],
   "source": [
    "import numpy as np\n",
    "\n",
    "# 1\n",
    "matris = np.random.randint(0, 10, size=(5,))\n",
    "\n",
    "# 2\n",
    "print(matris.shape)  # (5,)\n",
    "\n",
    "# 3\n",
    "matris = matris.reshape(5, 1)\n",
    "\n",
    "# 4\n",
    "print(matris.ndim)  # 2\n",
    "\n"
   ]
  },
  {
   "attachments": {},
   "cell_type": "markdown",
   "metadata": {},
   "source": [
    "# Problem 2"
   ]
  },
  {
   "cell_type": "code",
   "execution_count": 3,
   "metadata": {},
   "outputs": [
    {
     "name": "stdout",
     "output_type": "stream",
     "text": [
      "Üretilen matris:\n",
      " [[1]\n",
      " [3]\n",
      " [5]\n",
      " [7]\n",
      " [9]]\n",
      "Parçalanan matrisler:\n",
      "[[1]]\n",
      "[[3]]\n",
      "[[5]]\n",
      "[[7]]\n",
      "[[9]]\n",
      "Birleştirilmiş matris:\n",
      " [[1 3 5 7 9]]\n"
     ]
    }
   ],
   "source": [
    "import numpy as np\n",
    "\n",
    "# 1\n",
    "matris = np.arange(1, 10, 2).reshape(5, 1)\n",
    "print(\"Üretilen matris:\\n\", matris)\n",
    "\n",
    "# 2\n",
    "parcalar = np.split(matris, 5)\n",
    "print(\"Parçalanan matrisler:\")\n",
    "for p in parcalar:\n",
    "    print(p)\n",
    "\n",
    "# 3\n",
    "birlesik_matris = np.concatenate(parcalar, axis=1)\n",
    "print(\"Birleştirilmiş matris:\\n\", birlesik_matris)\n"
   ]
  },
  {
   "attachments": {},
   "cell_type": "markdown",
   "metadata": {},
   "source": [
    "# Problem 3"
   ]
  },
  {
   "cell_type": "code",
   "execution_count": 4,
   "metadata": {},
   "outputs": [
    {
     "name": "stdout",
     "output_type": "stream",
     "text": [
      "Üretilen matris:\n",
      " [[ 36  38]\n",
      " [ 74  78]\n",
      " [126 120]\n",
      " [ 40  72]\n",
      " [ 98  78]]\n",
      "Matrisin boyutu:  (5, 2)\n",
      "Matrisin eleman sayısı:  10\n",
      "Matrisin veri tipi:  int32\n",
      "Matrisin elemanlarının toplamı:  760\n",
      "Matrisin en küçük elemanı:  36\n",
      "Matrisin en büyük elemanı:  126\n",
      "Matrisin ortalama değeri:  76.0\n"
     ]
    }
   ],
   "source": [
    "import numpy as np\n",
    "\n",
    "# 1\n",
    "matris = np.random.randint(5, 100, size=(5,2)) * 2\n",
    "print(\"Üretilen matris:\\n\", matris)\n",
    "\n",
    "# 2\n",
    "print(\"Matrisin boyutu: \", matris.shape)\n",
    "print(\"Matrisin eleman sayısı: \", matris.size)\n",
    "print(\"Matrisin veri tipi: \", matris.dtype)\n",
    "print(\"Matrisin elemanlarının toplamı: \", matris.sum())\n",
    "print(\"Matrisin en küçük elemanı: \", matris.min())\n",
    "print(\"Matrisin en büyük elemanı: \", matris.max())\n",
    "print(\"Matrisin ortalama değeri: \", matris.mean())\n",
    "\n"
   ]
  }
 ],
 "metadata": {
  "kernelspec": {
   "display_name": "Python 3",
   "language": "python",
   "name": "python3"
  },
  "language_info": {
   "codemirror_mode": {
    "name": "ipython",
    "version": 3
   },
   "file_extension": ".py",
   "mimetype": "text/x-python",
   "name": "python",
   "nbconvert_exporter": "python",
   "pygments_lexer": "ipython3",
   "version": "3.11.2"
  },
  "orig_nbformat": 4,
  "vscode": {
   "interpreter": {
    "hash": "5026d2d6e7aaaaba093def813beadff083d8733e4a511af01735cbabd156995d"
   }
  }
 },
 "nbformat": 4,
 "nbformat_minor": 2
}
